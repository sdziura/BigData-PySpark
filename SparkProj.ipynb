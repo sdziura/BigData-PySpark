{
 "cells": [
  {
   "cell_type": "code",
   "execution_count": 1,
   "id": "split-harvest",
   "metadata": {},
   "outputs": [],
   "source": [
    "import pyspark\n",
    "from pyspark.sql import SparkSession\n",
    "from pyspark.sql.functions import col, lit, to_date, to_timestamp, year, avg, min, max\n",
    "from pyspark.sql.types import StructType, StructField, StringType, IntegerType"
   ]
  },
  {
   "cell_type": "code",
   "execution_count": 2,
   "id": "liable-repeat",
   "metadata": {},
   "outputs": [],
   "source": [
    "from datetime import datetime"
   ]
  },
  {
   "cell_type": "code",
   "execution_count": 3,
   "id": "administrative-battery",
   "metadata": {},
   "outputs": [],
   "source": [
    "import time"
   ]
  },
  {
   "cell_type": "code",
   "execution_count": 4,
   "id": "selective-wages",
   "metadata": {},
   "outputs": [
    {
     "name": "stdout",
     "output_type": "stream",
     "text": [
      "--- 6.38475775718689 seconds ---\n"
     ]
    }
   ],
   "source": [
    "start_time = time.time()\n",
    "spark = SparkSession.builder.appName('SparkByExamples.com').getOrCreate()\n",
    "print(\"--- %s seconds ---\" % (time.time() - start_time))"
   ]
  },
  {
   "cell_type": "code",
   "execution_count": 5,
   "id": "guided-portland",
   "metadata": {},
   "outputs": [
    {
     "name": "stdout",
     "output_type": "stream",
     "text": [
      "--- 18.396015644073486 seconds ---\n"
     ]
    }
   ],
   "source": [
    "start_time = time.time()\n",
    "df = spark.read.options(header='True', inferSchema='True', delimiter=',') \\\n",
    "    .csv(\"/home/jovyan/weather.csv\") \n",
    "print(\"--- %s seconds ---\" % (time.time() - start_time))"
   ]
  },
  {
   "cell_type": "code",
   "execution_count": 6,
   "id": "declared-liberia",
   "metadata": {},
   "outputs": [],
   "source": [
    "df = df.withColumn(\"StartTime\", to_timestamp(df.StartTime)) \\\n",
    "     .withColumn(\"EndTime\", to_timestamp(df.EndTime)) "
   ]
  },
  {
   "cell_type": "code",
   "execution_count": 7,
   "id": "great-tourism",
   "metadata": {},
   "outputs": [
    {
     "name": "stdout",
     "output_type": "stream",
     "text": [
      "root\n",
      " |-- EventId: string (nullable = true)\n",
      " |-- Type: string (nullable = true)\n",
      " |-- Severity: string (nullable = true)\n",
      " |-- StartTime: timestamp (nullable = true)\n",
      " |-- EndTime: timestamp (nullable = true)\n",
      " |-- TimeZone: string (nullable = true)\n",
      " |-- LocationLat: double (nullable = true)\n",
      " |-- LocationLng: double (nullable = true)\n",
      " |-- AirportCode: string (nullable = true)\n",
      " |-- City: string (nullable = true)\n",
      " |-- County: string (nullable = true)\n",
      " |-- State: string (nullable = true)\n",
      " |-- ZipCode: integer (nullable = true)\n",
      "\n",
      "+-------+----+--------+-------------------+-------------------+-----------+-----------+-----------+-----------+--------+--------+-----+-------+\n",
      "|EventId|Type|Severity|StartTime          |EndTime            |TimeZone   |LocationLat|LocationLng|AirportCode|City    |County  |State|ZipCode|\n",
      "+-------+----+--------+-------------------+-------------------+-----------+-----------+-----------+-----------+--------+--------+-----+-------+\n",
      "|W-310  |Rain|Light   |2016-08-01 00:16:00|2016-08-01 00:56:00|US/Mountain|38.0972    |-106.1689  |K04V       |Saguache|Saguache|CO   |81149  |\n",
      "|W-311  |Rain|Light   |2016-08-01 01:16:00|2016-08-01 01:36:00|US/Mountain|38.0972    |-106.1689  |K04V       |Saguache|Saguache|CO   |81149  |\n",
      "|W-312  |Rain|Light   |2016-08-01 01:56:00|2016-08-01 02:16:00|US/Mountain|38.0972    |-106.1689  |K04V       |Saguache|Saguache|CO   |81149  |\n",
      "|W-313  |Rain|Light   |2016-08-01 02:36:00|2016-08-01 02:56:00|US/Mountain|38.0972    |-106.1689  |K04V       |Saguache|Saguache|CO   |81149  |\n",
      "|W-314  |Rain|Light   |2016-08-01 04:36:00|2016-08-01 04:56:00|US/Mountain|38.0972    |-106.1689  |K04V       |Saguache|Saguache|CO   |81149  |\n",
      "|W-315  |Rain|Light   |2016-08-01 05:16:00|2016-08-01 05:36:00|US/Mountain|38.0972    |-106.1689  |K04V       |Saguache|Saguache|CO   |81149  |\n",
      "|W-316  |Rain|Light   |2016-08-01 06:16:00|2016-08-01 06:36:00|US/Mountain|38.0972    |-106.1689  |K04V       |Saguache|Saguache|CO   |81149  |\n",
      "|W-317  |Rain|Light   |2016-08-01 23:56:00|2016-08-02 00:16:00|US/Mountain|38.0972    |-106.1689  |K04V       |Saguache|Saguache|CO   |81149  |\n",
      "|W-318  |Rain|Light   |2016-08-03 00:16:00|2016-08-03 01:16:00|US/Mountain|38.0972    |-106.1689  |K04V       |Saguache|Saguache|CO   |81149  |\n",
      "|W-319  |Rain|Light   |2016-08-03 02:16:00|2016-08-03 02:36:00|US/Mountain|38.0972    |-106.1689  |K04V       |Saguache|Saguache|CO   |81149  |\n",
      "|W-320  |Rain|Light   |2016-08-03 02:56:00|2016-08-03 03:36:00|US/Mountain|38.0972    |-106.1689  |K04V       |Saguache|Saguache|CO   |81149  |\n",
      "|W-321  |Rain|Light   |2016-08-03 20:56:00|2016-08-03 22:16:00|US/Mountain|38.0972    |-106.1689  |K04V       |Saguache|Saguache|CO   |81149  |\n",
      "|W-322  |Rain|Light   |2016-08-03 22:56:00|2016-08-03 23:36:00|US/Mountain|38.0972    |-106.1689  |K04V       |Saguache|Saguache|CO   |81149  |\n",
      "|W-323  |Rain|Light   |2016-08-04 03:36:00|2016-08-04 04:16:00|US/Mountain|38.0972    |-106.1689  |K04V       |Saguache|Saguache|CO   |81149  |\n",
      "|W-324  |Rain|Light   |2016-08-04 06:56:00|2016-08-04 07:16:00|US/Mountain|38.0972    |-106.1689  |K04V       |Saguache|Saguache|CO   |81149  |\n",
      "|W-325  |Rain|Light   |2016-08-04 18:16:00|2016-08-04 18:36:00|US/Mountain|38.0972    |-106.1689  |K04V       |Saguache|Saguache|CO   |81149  |\n",
      "|W-326  |Rain|Light   |2016-08-04 20:36:00|2016-08-04 21:16:00|US/Mountain|38.0972    |-106.1689  |K04V       |Saguache|Saguache|CO   |81149  |\n",
      "|W-327  |Rain|Light   |2016-08-05 07:16:00|2016-08-05 09:56:00|US/Mountain|38.0972    |-106.1689  |K04V       |Saguache|Saguache|CO   |81149  |\n",
      "|W-328  |Rain|Light   |2016-08-05 10:36:00|2016-08-05 11:36:00|US/Mountain|38.0972    |-106.1689  |K04V       |Saguache|Saguache|CO   |81149  |\n",
      "|W-329  |Rain|Light   |2016-08-05 18:36:00|2016-08-05 20:36:00|US/Mountain|38.0972    |-106.1689  |K04V       |Saguache|Saguache|CO   |81149  |\n",
      "+-------+----+--------+-------------------+-------------------+-----------+-----------+-----------+-----------+--------+--------+-----+-------+\n",
      "only showing top 20 rows\n",
      "\n"
     ]
    }
   ],
   "source": [
    "df.printSchema()\n",
    "df.show(truncate=False)"
   ]
  },
  {
   "cell_type": "code",
   "execution_count": 8,
   "id": "strategic-drunk",
   "metadata": {},
   "outputs": [],
   "source": [
    "cityPar = 'Paynesville'\n",
    "yearPar = 2016"
   ]
  },
  {
   "cell_type": "code",
   "execution_count": 9,
   "id": "hidden-substitute",
   "metadata": {},
   "outputs": [
    {
     "name": "stdout",
     "output_type": "stream",
     "text": [
      "+-------------+-----+\n",
      "|Type         |count|\n",
      "+-------------+-----+\n",
      "|Cold         |233  |\n",
      "|Fog          |69   |\n",
      "|Precipitation|3    |\n",
      "|Rain         |197  |\n",
      "|Snow         |90   |\n",
      "+-------------+-----+\n",
      "\n",
      "--- 18.041224002838135 seconds ---\n"
     ]
    }
   ],
   "source": [
    "start_time = time.time()\n",
    "df.filter((df.City == cityPar) & \\\n",
    "        (year(df.StartTime) == yearPar))\\\n",
    "        .groupBy(\"Type\")\\\n",
    "        .count()\\\n",
    "        .show(truncate=False)  \n",
    "print(\"--- %s seconds ---\" % (time.time() - start_time))"
   ]
  },
  {
   "cell_type": "code",
   "execution_count": 10,
   "id": "timely-count",
   "metadata": {},
   "outputs": [
    {
     "name": "stdout",
     "output_type": "stream",
     "text": [
      "+--------+---------------+------------------+------------+------------+------------------+-------------+-------------+\n",
      "|County  |year(StartTime)|avg_latitude      |min_latitude|max_latitude|avg_longitude     |min_longitude|max_longitude|\n",
      "+--------+---------------+------------------+------------+------------+------------------+-------------+-------------+\n",
      "|Accomack|2020           |37.80375201550392 |37.6469     |37.9372     |-75.60176255814027|-75.7611     |-75.4662     |\n",
      "|Accomack|2018           |37.78434527150702 |37.6469     |37.9372     |-75.62147681513244|-75.7611     |-75.4662     |\n",
      "|Accomack|2017           |37.77527669464169 |37.6469     |37.9372     |-75.63068908973649|-75.7611     |-75.4662     |\n",
      "|Accomack|2016           |37.781883852140076|37.6469     |37.9372     |-75.62397723735405|-75.7611     |-75.4662     |\n",
      "|Accomack|2019           |37.795315593483345|37.6469     |37.9372     |-75.61033266097826|-75.7611     |-75.4662     |\n",
      "|Ada     |2016           |43.567            |43.567      |43.567      |-116.2404999999999|-116.2405    |-116.2405    |\n",
      "|Ada     |2018           |43.566999999999595|43.567      |43.567      |-116.2404999999999|-116.2405    |-116.2405    |\n",
      "|Ada     |2020           |43.566999999999524|43.567      |43.567      |-116.2404999999999|-116.2405    |-116.2405    |\n",
      "|Ada     |2017           |43.56699999999944 |43.567      |43.567      |-116.2404999999999|-116.2405    |-116.2405    |\n",
      "|Ada     |2019           |43.56699999999956 |43.567      |43.567      |-116.2404999999999|-116.2405    |-116.2405    |\n",
      "|Adair   |2017           |40.0966000000004  |40.0966     |40.0966     |-92.5469999999992 |-92.547      |-92.547      |\n",
      "|Adair   |2018           |40.09660000000045 |40.0966     |40.0966     |-92.54699999999912|-92.547      |-92.547      |\n",
      "|Adair   |2019           |40.0966000000005  |40.0966     |40.0966     |-92.54699999999904|-92.547      |-92.547      |\n",
      "|Adair   |2020           |40.09660000000048 |40.0966     |40.0966     |-92.54699999999907|-92.547      |-92.547      |\n",
      "|Adair   |2016           |40.0965999999999  |40.0966     |40.0966     |-92.54699999999993|-92.547      |-92.547      |\n",
      "|Adams   |2017           |39.379807262946194|31.6159     |46.0149     |-92.53807108271646|-104.5431    |-77.4304     |\n",
      "|Adams   |2019           |39.76298933959096 |31.6159     |46.0149     |-96.85840120683802|-104.5431    |-91.1966     |\n",
      "|Adams   |2018           |39.053283363870065|31.6159     |46.0149     |-96.46649560278443|-104.5431    |-91.1966     |\n",
      "|Adams   |2020           |38.00855113224714 |31.6159     |46.0149     |-94.46537087862255|-104.5431    |-91.1966     |\n",
      "|Adams   |2016           |40.53040243902417 |31.6159     |46.0149     |-91.91716807095406|-104.5431    |-77.4304     |\n",
      "+--------+---------------+------------------+------------+------------+------------------+-------------+-------------+\n",
      "only showing top 20 rows\n",
      "\n",
      "--- 12.534024715423584 seconds ---\n"
     ]
    }
   ],
   "source": [
    "start_time = time.time()\n",
    "df.groupBy(\"County\", year(df.StartTime))\\\n",
    "    .agg(avg(\"LocationLat\").alias(\"avg_latitude\"), \\\n",
    "        min(\"LocationLat\").alias(\"min_latitude\"), \\\n",
    "        max(\"LocationLat\").alias(\"max_latitude\"), \\\n",
    "        avg(\"LocationLng\").alias(\"avg_longitude\"), \\\n",
    "        min(\"LocationLng\").alias(\"min_longitude\"), \\\n",
    "        max(\"LocationLng\").alias(\"max_longitude\")) \\\n",
    "        .orderBy(\"County\")\\\n",
    "        .show(truncate=False)  \n",
    "print(\"--- %s seconds ---\" % (time.time() - start_time))"
   ]
  }
 ],
 "metadata": {
  "kernelspec": {
   "display_name": "Python 3",
   "language": "python",
   "name": "python3"
  },
  "language_info": {
   "codemirror_mode": {
    "name": "ipython",
    "version": 3
   },
   "file_extension": ".py",
   "mimetype": "text/x-python",
   "name": "python",
   "nbconvert_exporter": "python",
   "pygments_lexer": "ipython3",
   "version": "3.8.6"
  }
 },
 "nbformat": 4,
 "nbformat_minor": 5
}
